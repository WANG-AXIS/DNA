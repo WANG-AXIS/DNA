{
 "cells": [
  {
   "cell_type": "code",
   "execution_count": null,
   "metadata": {},
   "outputs": [],
   "source": [
    "import numpy as np                # import numpy\n",
    "from tqdm import tqdm\n",
    "\n",
    "#import torch packages\n",
    "import torch\n",
    "import torch.nn as nn\n",
    "import torch.nn.functional as F\n",
    "import torch.optim as optim\n",
    "import torchvision\n",
    "from torchvision.datasets import MNIST\n",
    "from torch.utils.data import DataLoader\n",
    "\n",
    "if torch.cuda.is_available():\n",
    "  print('Running on Graphics')\n",
    "  device=torch.device('cuda:0')\n",
    "else:\n",
    "  device=torch.device('cpu')\n",
    "  print('Running on Processor')"
   ]
  },
  {
   "cell_type": "code",
   "execution_count": null,
   "metadata": {},
   "outputs": [],
   "source": [
    "class bottleneck(nn.Module):\n",
    "  def __init__(self, in_size, bn_size, act=nn.ReLU()):\n",
    "    super().__init__()\n",
    "    self.L1 = nn.Linear(in_size, bn_size)\n",
    "    self.L2 = nn.Linear(bn_size, in_size)\n",
    "    self.act = act\n",
    "\n",
    "  def forward(self, x):\n",
    "    self.bn = self.act(self.L1(x))\n",
    "    x = self.act(self.L2(self.bn))\n",
    "    return x\n",
    "\n",
    "class Encoder(nn.Module):\n",
    "  def __init__(self, in_size, bn_size):\n",
    "    super().__init__()\n",
    "    self.enc = nn.Sequential(\n",
    "        nn.Linear(28*28, 100),\n",
    "        nn.ReLU(),nn.Linear(100,in_size),\n",
    "        nn.ReLU())\n",
    "        \n",
    "  def forward(self, x):\n",
    "    x = torch.flatten(x, start_dim=1)\n",
    "    x = self.enc(x)\n",
    "    return x\n",
    "\n",
    "class Decoder(nn.Module):\n",
    "  def __init__(self, in_size, bn_size):\n",
    "    super().__init__()\n",
    "    self.dec = nn.Sequential(nn.Linear(in_size, 100), nn.ReLU(),\n",
    "        nn.Linear(100, 28*28),\n",
    "        nn.Sigmoid())\n",
    "\n",
    "  def forward(self, x):\n",
    "    x = self.dec(x)\n",
    "    return x.reshape(-1,1,28,28)\n",
    "\n",
    "class DNA(nn.Module):\n",
    "    def __init__(self, in_size, bn_size):\n",
    "        super().__init__()\n",
    "        self.enc = Encoder(in_size, bn_size)\n",
    "        self.dec = Decoder(in_size, bn_size)\n",
    "        self.bn1 = bottleneck(in_size, bn_size)\n",
    "        self.bn2 = bottleneck(in_size, bn_size)\n",
    "        \n",
    "    def forward(self, x):\n",
    "        x = self.enc(x)\n",
    "        r1 = self.dec(self.bn1(x))\n",
    "        r2 = self.dec(self.bn2(x))\n",
    "        return r1, r2"
   ]
  },
  {
   "cell_type": "code",
   "execution_count": null,
   "metadata": {},
   "outputs": [],
   "source": [
    "class Classifier(nn.Module):\n",
    "  def __init__(self):\n",
    "        super().__init__()\n",
    "        self.c = nn.Sequential(\n",
    "            nn.Conv2d(1,8,3,padding=1),\n",
    "            nn.ReLU(),\n",
    "            nn.MaxPool2d(2),\n",
    "            nn.Conv2d(8,16,3,padding=1),\n",
    "            nn.ReLU(),\n",
    "            nn.MaxPool2d(2),\n",
    "            nn.Conv2d(16,32,3,padding=1),\n",
    "            nn.ReLU(),\n",
    "            nn.MaxPool2d(2),\n",
    "            nn.Flatten(start_dim=1),\n",
    "            nn.Linear(288,10))\n",
    "        \n",
    "  def forward(self, x):\n",
    "        self.out = self.c(x)\n",
    "        return self.out "
   ]
  },
  {
   "cell_type": "code",
   "execution_count": null,
   "metadata": {},
   "outputs": [],
   "source": [
    "def train(forward_fs, loss_f, optim, train_data, test_data, models, epochs, batch_size, auto=False, epsilon=0, loss_adv=None):\n",
    "    metrics = []\n",
    "    for i in tqdm(range(epochs)):\n",
    "        t_loss=0\n",
    "        for idx, (x, y) in enumerate(DataLoader(train_data, batch_size=batch_size, shuffle=True)):\n",
    "          x = x.to(device)\n",
    "          y = y.to(device)\n",
    "          for forward_f in forward_fs:\n",
    "              if epsilon != 0:\n",
    "                x = gen_FGSM(x, y, epsilon, loss_adv, models)\n",
    "              y_hat = forward_f(x)\n",
    "              if auto:\n",
    "                  loss = loss_f(y_hat, x)\n",
    "              else:\n",
    "                  loss = loss_f(y_hat, y)\n",
    "              for model in models:\n",
    "                  model.zero_grad()\n",
    "              loss.backward()\n",
    "              optim.step()\n",
    "        for idx, (x, y) in enumerate(DataLoader(test_data, batch_size=batch_size)):\n",
    "          t_loss = 0\n",
    "          x = x.to(device)\n",
    "          y = y.to(device)\n",
    "          for forward_f in forward_fs:\n",
    "              y_hat = forward_f(x)\n",
    "              if auto:\n",
    "                  loss = loss_f(y_hat, x)\n",
    "              else:\n",
    "                  loss = loss_f(y_hat, y)\n",
    "              t_loss = t_loss + loss.data\n",
    "        metrics.append(t_loss)\n",
    "    return np.transpose(metrics)"
   ]
  },
  {
   "cell_type": "code",
   "execution_count": null,
   "metadata": {},
   "outputs": [],
   "source": [
    "train_data = MNIST('../../mnist_digits/', train=True, download=True,transform=torchvision.transforms.ToTensor())\n",
    "test_data = MNIST('../../mnist_digits/', train=False, download=True,transform=torchvision.transforms.ToTensor())"
   ]
  },
  {
   "cell_type": "code",
   "execution_count": null,
   "metadata": {},
   "outputs": [],
   "source": [
    "#Find R for loss function\n",
    "def get_R(X,Y):\n",
    "    #First modify to create nonsingular X:\n",
    "    _,R = torch.linalg.qr(X)\n",
    "    cols = torch.diag(R)\n",
    "    cols = abs(cols/torch.max(cols))>0.0005\n",
    "    X = X[:,cols]\n",
    "\n",
    "    X = torch.cat([X, torch.ones([batch_size,1]).to(device)],dim=1)\n",
    "    Yhat = torch.matmul(torch.matmul(X,torch.linalg.pinv(X)),Y)\n",
    "    Ehat = Y - Yhat\n",
    "    SSres = torch.sum(torch.square(Ehat))\n",
    "    Ybar = torch.mean(Y, dim=0).unsqueeze(0)\n",
    "    SStot = torch.sum(torch.square(Y-Ybar))\n",
    "    eta = 0.001 #constant for stability\n",
    "    R = 1 - SSres/(SStot+eta)\n",
    "    return torch.log(SStot+eta)-torch.log(SSres+eta)"
   ]
  },
  {
   "cell_type": "code",
   "execution_count": null,
   "metadata": {},
   "outputs": [],
   "source": [
    "auto_loss = nn.MSELoss()\n",
    "lambda1 = 0.05\n",
    "def total_loss(xr, x):\n",
    "    L1 = auto_loss(x, xr[0])\n",
    "    L2 = auto_loss(x, xr[1])\n",
    "    L3 = get_R(dna.bn1.bn, dna.bn2.bn)\n",
    "    total_loss = torch.sqrt(L1**2 + L2**2) + lambda1*L3\n",
    "    print('MSE1:{} MSE2:{} R2:{}'.format(L1,L2,L3))\n",
    "    return total_loss"
   ]
  },
  {
   "cell_type": "code",
   "execution_count": null,
   "metadata": {},
   "outputs": [],
   "source": [
    "in_size = 128\n",
    "bn_size = 64\n",
    "\n",
    "dna = DNA(in_size, bn_size).to(device)"
   ]
  },
  {
   "cell_type": "code",
   "execution_count": null,
   "metadata": {
    "scrolled": true
   },
   "outputs": [],
   "source": [
    "#Train DNA\n",
    "batch_size = 500\n",
    "learning_rate = 5.0e-4\n",
    "epochs = 40\n",
    "\n",
    "optimizer = optim.Adam(dna.parameters(), lr = learning_rate)\n",
    "forward_both = lambda x: dna(x)\n",
    "models = [dna]\n",
    "\n",
    "metric = train([forward_both], total_loss, optimizer, train_data, test_data, models, epochs, batch_size, auto=True)"
   ]
  },
  {
   "cell_type": "code",
   "execution_count": null,
   "metadata": {},
   "outputs": [],
   "source": [
    "#Train Classifier\n",
    "cls = Classifier().to(device)\n",
    "optimizer = optim.Adam(cls.parameters(), lr = learning_rate)\n",
    "loss_ce = nn.CrossEntropyLoss()\n",
    "models = [cls]\n",
    "forward_f1 = lambda x: cls(dna(x)[0])\n",
    "forward_f2 = lambda x: cls(dna(x)[1])\n",
    "\n",
    "metric = train([forward_f1, forward_f2], loss_ce, optimizer, train_data, test_data, models, epochs, batch_size, auto=False)"
   ]
  },
  {
   "cell_type": "code",
   "execution_count": null,
   "metadata": {},
   "outputs": [],
   "source": [
    "torch.save(dna.state_dict(), 'models/dna')\n",
    "torch.save(cls.state_dict(), 'models/cls_dna')"
   ]
  }
 ],
 "metadata": {
  "kernelspec": {
   "display_name": "Python 3",
   "language": "python",
   "name": "python3"
  },
  "language_info": {
   "codemirror_mode": {
    "name": "ipython",
    "version": 3
   },
   "file_extension": ".py",
   "mimetype": "text/x-python",
   "name": "python",
   "nbconvert_exporter": "python",
   "pygments_lexer": "ipython3",
   "version": "3.7.10"
  }
 },
 "nbformat": 4,
 "nbformat_minor": 4
}
