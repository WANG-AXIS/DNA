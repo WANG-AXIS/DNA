{
 "cells": [
  {
   "cell_type": "code",
   "execution_count": 1,
   "id": "20960215",
   "metadata": {
    "scrolled": true
   },
   "outputs": [
    {
     "name": "stdout",
     "output_type": "stream",
     "text": [
      "Running on Graphics\n"
     ]
    }
   ],
   "source": [
    "import numpy as np                # import numpy\n",
    "from tqdm import tqdm\n",
    "\n",
    "#import torch packages\n",
    "import torch\n",
    "import torch.nn as nn\n",
    "import torch.nn.functional as F\n",
    "import torch.optim as optim\n",
    "import torchvision\n",
    "from torchvision.datasets import CIFAR10\n",
    "from torch.utils.data import DataLoader\n",
    "import torchvision.transforms as tt\n",
    "\n",
    "if torch.cuda.is_available():\n",
    "  print('Running on Graphics')\n",
    "  device=torch.device('cuda:0')\n",
    "else:\n",
    "  device=torch.device('cpu')\n",
    "  print('Running on Processor')"
   ]
  },
  {
   "cell_type": "code",
   "execution_count": 2,
   "id": "870bed14",
   "metadata": {},
   "outputs": [],
   "source": [
    "train_data = CIFAR10('../../CIFAR/cifar_data/', train=True, download=True,transform=tt.Compose(\n",
    "    [tt.RandomCrop(32, padding=4),\n",
    "     tt.RandomHorizontalFlip(),\n",
    "     tt.ToTensor(),\n",
    "     tt.Normalize((0.5, 0.5, 0.5), (0.5, 0.5, 0.5))\n",
    "     ]))\n",
    "test_data = CIFAR10('../../CIFAR/cifar_data/', train=False, download=True,transform=tt.Compose(\n",
    "    [tt.ToTensor(),\n",
    "     tt.Normalize((0.5, 0.5, 0.5), (0.5, 0.5, 0.5))]))\n",
    "\n",
    "classes = ('plane', 'car', 'bird', 'cat',\n",
    "           'deer', 'dog', 'frog', 'horse', 'ship', 'truck')"
   ]
  },
  {
   "cell_type": "code",
   "execution_count": 3,
   "id": "d7920d8d",
   "metadata": {},
   "outputs": [],
   "source": [
    "def get_acc(yhat, y):\n",
    "    predictions = torch.argmax(yhat, dim=1)\n",
    "    total_correct = torch.sum(predictions == y, dtype=torch.float32)\n",
    "    return total_correct"
   ]
  },
  {
   "cell_type": "code",
   "execution_count": 4,
   "id": "71245f5a",
   "metadata": {},
   "outputs": [],
   "source": [
    "class block(nn.Module):\n",
    "    def __init__(self, in_channels, out_channels):\n",
    "        super().__init__()\n",
    "        self.c1 = nn.Conv2d(in_channels, out_channels, 3, padding=1)\n",
    "        self.c2 = nn.Conv2d(out_channels, out_channels, 3, padding=1)\n",
    "        self.act = nn.ReLU()\n",
    "        self.bn1 = nn.BatchNorm2d((in_channels))\n",
    "        self.bn2 = nn.BatchNorm2d((out_channels))\n",
    "        if in_channels == out_channels:\n",
    "            self.id = nn.Identity()\n",
    "        else:\n",
    "            self.id = nn.Conv2d(in_channels, out_channels, 1)\n",
    "        \n",
    "    def forward(self, x):\n",
    "        x_res = self.c1(self.act(self.bn1(x)))\n",
    "        x_res = self.c2(self.act(self.bn2(x_res)))\n",
    "        return x_res + self.id(x)\n",
    "\n",
    "class bottleneck(nn.Module):\n",
    "  def __init__(self):\n",
    "    super().__init__()\n",
    "    self.b0 = block(32,32)\n",
    "    self.b1 = block(32,7)\n",
    "    self.b2 = block(7,32)\n",
    "    self.b3 = block(32,32)\n",
    "\n",
    "  def forward(self, x):\n",
    "    self.bn = self.b1(self.b0(x))\n",
    "    x = self.b3(self.b2(self.bn))\n",
    "    return  x\n",
    "\n",
    "\n",
    "class Encoder(nn.Module):\n",
    "  def __init__(self):\n",
    "    super().__init__()\n",
    "    self.b1 = block(3,16)\n",
    "    self.b2 = block(16,32)\n",
    "    self.pool = nn.MaxPool2d(2)\n",
    "\n",
    "  def forward(self, x):\n",
    "    x = self.pool(self.b1(x))\n",
    "    x = self.pool(self.b2(x))\n",
    "    return x\n",
    "\n",
    "\n",
    "class Decoder(nn.Module):\n",
    "  def __init__(self):\n",
    "    super().__init__()\n",
    "    self.b1 = block(32,16)\n",
    "    self.b2 = block(16,3)\n",
    "    self.u1 = nn.ConvTranspose2d(32,32,2,2)\n",
    "    self.u2 = nn.ConvTranspose2d(16,16,2,2)\n",
    "    self.act = nn.Tanh()\n",
    "\n",
    "  def forward(self, x):\n",
    "    x = self.b1(self.u1(x))\n",
    "    x = self.b2(self.u2(x))\n",
    "    return self.act(x)\n",
    "\n",
    "class DNA(nn.Module):\n",
    "    def __init__(self):\n",
    "        super().__init__()\n",
    "        self.enc = Encoder()\n",
    "        self.dec = Decoder()\n",
    "        self.bn1 = bottleneck()\n",
    "        self.bn2 = bottleneck()\n",
    "        \n",
    "    def forward(self, x):\n",
    "        x = self.enc(x)\n",
    "        r1 = self.dec(self.bn1(x))\n",
    "        r2 = self.dec(self.bn2(x))\n",
    "        return r1, r2"
   ]
  },
  {
   "cell_type": "code",
   "execution_count": 5,
   "id": "00e2653a",
   "metadata": {},
   "outputs": [],
   "source": [
    "class Classifier(nn.Module):\n",
    "    def __init__(self):\n",
    "        super().__init__()\n",
    "        self.c1 = nn.Conv2d(3,64,3,padding=1)\n",
    "        self.r1 = block(64,128)\n",
    "        self.r2 = block(128,256)\n",
    "        self.r3 = block(256, 512)\n",
    "        self.classifier = nn.Sequential(nn.MaxPool2d(4), nn.Flatten(start_dim=1), nn.Linear(512, 10))\n",
    "        self.act = nn.ReLU()\n",
    "        self.pool = nn.MaxPool2d(2)\n",
    "        \n",
    "    def forward(self,x):\n",
    "        x = self.pool(self.act(self.c1(x)))\n",
    "        x = self.pool(self.r1(x))\n",
    "        x = self.pool(self.r2(x))\n",
    "        x = self.r3(x)\n",
    "        x = self.classifier(x)\n",
    "        return x"
   ]
  },
  {
   "cell_type": "code",
   "execution_count": 6,
   "id": "65e28369",
   "metadata": {},
   "outputs": [],
   "source": [
    "def train(forward_fs, loss_f, optim, train_data, test_data, models, epochs, batch_size, auto=False, eta=0, adv_path=None):\n",
    "    metrics = []\n",
    "    for i in tqdm(range(epochs)):\n",
    "        t_loss=0\n",
    "        for model in models:\n",
    "            model.train()\n",
    "        dl = iter(DataLoader(train_data, batch_size=batch_size, shuffle=True))\n",
    "        for idx in range(len(dl)):\n",
    "          x,y = next(dl)\n",
    "          x = x.to(device)\n",
    "          y = y.to(device)\n",
    "          for forward_f in forward_fs:\n",
    "              if eta != 0:\n",
    "                y_hat = forward_f(gen_FGSM(x, y, eta, adv_path, models))\n",
    "              else:\n",
    "                y_hat = forward_f(x)\n",
    "              if auto:\n",
    "                  loss = loss_f(y_hat, x)\n",
    "              else:\n",
    "                  loss = loss_f(y_hat, y)\n",
    "              for model in models:\n",
    "                  model.zero_grad()\n",
    "              loss.backward()\n",
    "              optim.step()\n",
    "        for model in models:\n",
    "            model.eval()\n",
    "        t_loss = 0\n",
    "        print('TESTING')\n",
    "        for idx, (x, y) in enumerate(DataLoader(test_data, batch_size=batch_size)):\n",
    "          x = x.to(device)\n",
    "          y = y.to(device)\n",
    "          y_hat = forward_f(x)\n",
    "          if auto:\n",
    "              loss = loss_f(y_hat, x)\n",
    "          else:\n",
    "              loss = get_acc(y_hat, y)\n",
    "          t_loss = t_loss + loss.data\n",
    "        print(t_loss/len(test_data))\n",
    "        metrics.append(t_loss/len(test_data))\n",
    "    return np.transpose(metrics)"
   ]
  },
  {
   "cell_type": "code",
   "execution_count": 7,
   "id": "cec94430",
   "metadata": {},
   "outputs": [],
   "source": [
    "def get_R(X,Y):\n",
    "    #First modify to create nonsingular X:\n",
    "    _,R = torch.linalg.qr(X)\n",
    "    cols = torch.diag(R)\n",
    "    cols = abs(cols/torch.max(cols))>0.0005\n",
    "    X = X[:,cols]\n",
    "\n",
    "    X = torch.cat([X, torch.ones([batch_size,1]).to(device)],dim=1)\n",
    "    Yhat = torch.matmul(torch.matmul(X,torch.linalg.pinv(X)),Y)\n",
    "    Ehat = Y - Yhat\n",
    "    SSres = torch.sum(torch.square(Ehat))\n",
    "    Ybar = torch.mean(Y, dim=0).unsqueeze(0)\n",
    "    SStot = torch.sum(torch.square(Y-Ybar))\n",
    "    eta = 0.001 #constant for stability\n",
    "    R = 1 - SSres/(SStot+eta)\n",
    "    return torch.log(SStot+eta)-torch.log(SSres+eta)"
   ]
  },
  {
   "cell_type": "code",
   "execution_count": 23,
   "id": "a9fdbf01",
   "metadata": {},
   "outputs": [],
   "source": [
    "auto_loss = nn.MSELoss()\n",
    "lambda1 = 0.05\n",
    "def total_loss(xr, x):\n",
    "    L1 = auto_loss(x, xr[0])\n",
    "    L2 = auto_loss(x, xr[1])\n",
    "    L3 = get_R(torch.flatten(dna.bn1.bn, start_dim=1), torch.flatten(dna.bn2.bn, start_dim=1))\n",
    "    total_loss = torch.sqrt(L1**2 + L2**2) + lambda1*L3\n",
    "   # print('MSE1:{} MSE2:{} R2:{}'.format(L1,L2,L3))\n",
    "    return total_loss"
   ]
  },
  {
   "cell_type": "code",
   "execution_count": 24,
   "id": "36ba221a",
   "metadata": {},
   "outputs": [
    {
     "name": "stderr",
     "output_type": "stream",
     "text": [
      "\r",
      "  0%|          | 0/30 [00:00<?, ?it/s]"
     ]
    },
    {
     "name": "stdout",
     "output_type": "stream",
     "text": [
      "TESTING\n"
     ]
    },
    {
     "name": "stderr",
     "output_type": "stream",
     "text": [
      "\r",
      "  3%|▎         | 1/30 [00:14<06:47, 14.07s/it]"
     ]
    },
    {
     "name": "stdout",
     "output_type": "stream",
     "text": [
      "tensor(0.0002, device='cuda:0')\n",
      "TESTING\n"
     ]
    },
    {
     "name": "stderr",
     "output_type": "stream",
     "text": [
      "\r",
      "  7%|▋         | 2/30 [00:28<06:35, 14.11s/it]"
     ]
    },
    {
     "name": "stdout",
     "output_type": "stream",
     "text": [
      "tensor(0.0001, device='cuda:0')\n",
      "TESTING\n"
     ]
    },
    {
     "name": "stderr",
     "output_type": "stream",
     "text": [
      "\r",
      " 10%|█         | 3/30 [00:42<06:21, 14.12s/it]"
     ]
    },
    {
     "name": "stdout",
     "output_type": "stream",
     "text": [
      "tensor(8.8536e-05, device='cuda:0')\n",
      "TESTING\n"
     ]
    },
    {
     "name": "stderr",
     "output_type": "stream",
     "text": [
      "\r",
      " 13%|█▎        | 4/30 [00:56<06:07, 14.13s/it]"
     ]
    },
    {
     "name": "stdout",
     "output_type": "stream",
     "text": [
      "tensor(7.1106e-05, device='cuda:0')\n",
      "TESTING\n"
     ]
    },
    {
     "name": "stderr",
     "output_type": "stream",
     "text": [
      "\r",
      " 17%|█▋        | 5/30 [01:10<05:53, 14.15s/it]"
     ]
    },
    {
     "name": "stdout",
     "output_type": "stream",
     "text": [
      "tensor(6.4495e-05, device='cuda:0')\n",
      "TESTING\n"
     ]
    },
    {
     "name": "stderr",
     "output_type": "stream",
     "text": [
      "\r",
      " 20%|██        | 6/30 [01:24<05:40, 14.21s/it]"
     ]
    },
    {
     "name": "stdout",
     "output_type": "stream",
     "text": [
      "tensor(5.7453e-05, device='cuda:0')\n",
      "TESTING\n"
     ]
    },
    {
     "name": "stderr",
     "output_type": "stream",
     "text": [
      "\r",
      " 23%|██▎       | 7/30 [01:39<05:25, 14.16s/it]"
     ]
    },
    {
     "name": "stdout",
     "output_type": "stream",
     "text": [
      "tensor(5.1772e-05, device='cuda:0')\n",
      "TESTING\n"
     ]
    },
    {
     "name": "stderr",
     "output_type": "stream",
     "text": [
      "\r",
      " 27%|██▋       | 8/30 [01:53<05:12, 14.19s/it]"
     ]
    },
    {
     "name": "stdout",
     "output_type": "stream",
     "text": [
      "tensor(4.8554e-05, device='cuda:0')\n",
      "TESTING\n"
     ]
    },
    {
     "name": "stderr",
     "output_type": "stream",
     "text": [
      "\r",
      " 30%|███       | 9/30 [02:07<04:57, 14.16s/it]"
     ]
    },
    {
     "name": "stdout",
     "output_type": "stream",
     "text": [
      "tensor(4.5902e-05, device='cuda:0')\n",
      "TESTING\n"
     ]
    },
    {
     "name": "stderr",
     "output_type": "stream",
     "text": [
      "\r",
      " 33%|███▎      | 10/30 [02:21<04:45, 14.29s/it]"
     ]
    },
    {
     "name": "stdout",
     "output_type": "stream",
     "text": [
      "tensor(4.4021e-05, device='cuda:0')\n",
      "TESTING\n"
     ]
    },
    {
     "name": "stderr",
     "output_type": "stream",
     "text": [
      "\r",
      " 37%|███▋      | 11/30 [02:36<04:30, 14.25s/it]"
     ]
    },
    {
     "name": "stdout",
     "output_type": "stream",
     "text": [
      "tensor(4.1791e-05, device='cuda:0')\n",
      "TESTING\n"
     ]
    },
    {
     "name": "stderr",
     "output_type": "stream",
     "text": [
      "\r",
      " 40%|████      | 12/30 [02:50<04:16, 14.28s/it]"
     ]
    },
    {
     "name": "stdout",
     "output_type": "stream",
     "text": [
      "tensor(4.0223e-05, device='cuda:0')\n",
      "TESTING\n"
     ]
    },
    {
     "name": "stderr",
     "output_type": "stream",
     "text": [
      "\r",
      " 43%|████▎     | 13/30 [03:04<04:01, 14.23s/it]"
     ]
    },
    {
     "name": "stdout",
     "output_type": "stream",
     "text": [
      "tensor(3.9785e-05, device='cuda:0')\n",
      "TESTING\n"
     ]
    },
    {
     "name": "stderr",
     "output_type": "stream",
     "text": [
      "\r",
      " 47%|████▋     | 14/30 [03:18<03:47, 14.20s/it]"
     ]
    },
    {
     "name": "stdout",
     "output_type": "stream",
     "text": [
      "tensor(3.8310e-05, device='cuda:0')\n",
      "TESTING\n"
     ]
    },
    {
     "name": "stderr",
     "output_type": "stream",
     "text": [
      "\r",
      " 50%|█████     | 15/30 [03:32<03:33, 14.22s/it]"
     ]
    },
    {
     "name": "stdout",
     "output_type": "stream",
     "text": [
      "tensor(3.6803e-05, device='cuda:0')\n",
      "TESTING\n"
     ]
    },
    {
     "name": "stderr",
     "output_type": "stream",
     "text": [
      "\r",
      " 53%|█████▎    | 16/30 [03:47<03:18, 14.20s/it]"
     ]
    },
    {
     "name": "stdout",
     "output_type": "stream",
     "text": [
      "tensor(3.6355e-05, device='cuda:0')\n",
      "TESTING\n"
     ]
    },
    {
     "name": "stderr",
     "output_type": "stream",
     "text": [
      "\r",
      " 57%|█████▋    | 17/30 [04:01<03:04, 14.18s/it]"
     ]
    },
    {
     "name": "stdout",
     "output_type": "stream",
     "text": [
      "tensor(3.5199e-05, device='cuda:0')\n",
      "TESTING\n"
     ]
    },
    {
     "name": "stderr",
     "output_type": "stream",
     "text": [
      "\r",
      " 60%|██████    | 18/30 [04:15<02:50, 14.18s/it]"
     ]
    },
    {
     "name": "stdout",
     "output_type": "stream",
     "text": [
      "tensor(3.3839e-05, device='cuda:0')\n",
      "TESTING\n"
     ]
    },
    {
     "name": "stderr",
     "output_type": "stream",
     "text": [
      "\r",
      " 63%|██████▎   | 19/30 [04:29<02:35, 14.15s/it]"
     ]
    },
    {
     "name": "stdout",
     "output_type": "stream",
     "text": [
      "tensor(3.3231e-05, device='cuda:0')\n",
      "TESTING\n"
     ]
    },
    {
     "name": "stderr",
     "output_type": "stream",
     "text": [
      "\r",
      " 67%|██████▋   | 20/30 [04:43<02:21, 14.15s/it]"
     ]
    },
    {
     "name": "stdout",
     "output_type": "stream",
     "text": [
      "tensor(3.3585e-05, device='cuda:0')\n",
      "TESTING\n"
     ]
    },
    {
     "name": "stderr",
     "output_type": "stream",
     "text": [
      "\r",
      " 70%|███████   | 21/30 [04:57<02:07, 14.13s/it]"
     ]
    },
    {
     "name": "stdout",
     "output_type": "stream",
     "text": [
      "tensor(3.2760e-05, device='cuda:0')\n",
      "TESTING\n"
     ]
    },
    {
     "name": "stderr",
     "output_type": "stream",
     "text": [
      "\r",
      " 73%|███████▎  | 22/30 [05:11<01:53, 14.13s/it]"
     ]
    },
    {
     "name": "stdout",
     "output_type": "stream",
     "text": [
      "tensor(3.3269e-05, device='cuda:0')\n",
      "TESTING\n"
     ]
    },
    {
     "name": "stderr",
     "output_type": "stream",
     "text": [
      "\r",
      " 77%|███████▋  | 23/30 [05:26<01:39, 14.16s/it]"
     ]
    },
    {
     "name": "stdout",
     "output_type": "stream",
     "text": [
      "tensor(3.2224e-05, device='cuda:0')\n",
      "TESTING\n"
     ]
    },
    {
     "name": "stderr",
     "output_type": "stream",
     "text": [
      "\r",
      " 80%|████████  | 24/30 [05:40<01:24, 14.15s/it]"
     ]
    },
    {
     "name": "stdout",
     "output_type": "stream",
     "text": [
      "tensor(3.1868e-05, device='cuda:0')\n",
      "TESTING\n"
     ]
    },
    {
     "name": "stderr",
     "output_type": "stream",
     "text": [
      "\r",
      " 83%|████████▎ | 25/30 [05:54<01:11, 14.23s/it]"
     ]
    },
    {
     "name": "stdout",
     "output_type": "stream",
     "text": [
      "tensor(3.3035e-05, device='cuda:0')\n",
      "TESTING\n"
     ]
    },
    {
     "name": "stderr",
     "output_type": "stream",
     "text": [
      "\r",
      " 87%|████████▋ | 26/30 [06:08<00:56, 14.20s/it]"
     ]
    },
    {
     "name": "stdout",
     "output_type": "stream",
     "text": [
      "tensor(3.2002e-05, device='cuda:0')\n",
      "TESTING\n"
     ]
    },
    {
     "name": "stderr",
     "output_type": "stream",
     "text": [
      "\r",
      " 90%|█████████ | 27/30 [06:22<00:42, 14.17s/it]"
     ]
    },
    {
     "name": "stdout",
     "output_type": "stream",
     "text": [
      "tensor(3.0986e-05, device='cuda:0')\n",
      "TESTING\n"
     ]
    },
    {
     "name": "stderr",
     "output_type": "stream",
     "text": [
      "\r",
      " 93%|█████████▎| 28/30 [06:37<00:28, 14.19s/it]"
     ]
    },
    {
     "name": "stdout",
     "output_type": "stream",
     "text": [
      "tensor(3.0816e-05, device='cuda:0')\n",
      "TESTING\n"
     ]
    },
    {
     "name": "stderr",
     "output_type": "stream",
     "text": [
      "\r",
      " 97%|█████████▋| 29/30 [06:51<00:14, 14.17s/it]"
     ]
    },
    {
     "name": "stdout",
     "output_type": "stream",
     "text": [
      "tensor(3.2025e-05, device='cuda:0')\n",
      "TESTING\n"
     ]
    },
    {
     "name": "stderr",
     "output_type": "stream",
     "text": [
      "100%|██████████| 30/30 [07:05<00:00, 14.18s/it]"
     ]
    },
    {
     "name": "stdout",
     "output_type": "stream",
     "text": [
      "tensor(3.1592e-05, device='cuda:0')\n"
     ]
    },
    {
     "name": "stderr",
     "output_type": "stream",
     "text": [
      "\n"
     ]
    }
   ],
   "source": [
    "#Train AE\n",
    "dna = DNA().to(device)\n",
    "batch_size = 1250\n",
    "learning_rate = 5.0e-4\n",
    "epochs = 30\n",
    "\n",
    "optimizer = optim.Adam(dna.parameters(), lr = learning_rate)\n",
    "\n",
    "models = [dna]\n",
    "forward_both = lambda x: dna(x)\n",
    "\n",
    "metric = train([forward_both], total_loss, optimizer, train_data, test_data, models, epochs, batch_size, auto=True)"
   ]
  },
  {
   "cell_type": "code",
   "execution_count": 25,
   "id": "7c206e04",
   "metadata": {},
   "outputs": [
    {
     "name": "stderr",
     "output_type": "stream",
     "text": [
      "\r",
      "  0%|          | 0/30 [00:00<?, ?it/s]"
     ]
    },
    {
     "name": "stdout",
     "output_type": "stream",
     "text": [
      "TESTING\n"
     ]
    },
    {
     "name": "stderr",
     "output_type": "stream",
     "text": [
      "\r",
      "  3%|▎         | 1/30 [00:11<05:25, 11.23s/it]"
     ]
    },
    {
     "name": "stdout",
     "output_type": "stream",
     "text": [
      "tensor(0.4663, device='cuda:0')\n",
      "TESTING\n"
     ]
    },
    {
     "name": "stderr",
     "output_type": "stream",
     "text": [
      "\r",
      "  7%|▋         | 2/30 [00:23<05:23, 11.57s/it]"
     ]
    },
    {
     "name": "stdout",
     "output_type": "stream",
     "text": [
      "tensor(0.5639, device='cuda:0')\n",
      "TESTING\n"
     ]
    },
    {
     "name": "stderr",
     "output_type": "stream",
     "text": [
      "\r",
      " 10%|█         | 3/30 [00:35<05:17, 11.76s/it]"
     ]
    },
    {
     "name": "stdout",
     "output_type": "stream",
     "text": [
      "tensor(0.6102, device='cuda:0')\n",
      "TESTING\n"
     ]
    },
    {
     "name": "stderr",
     "output_type": "stream",
     "text": [
      "\r",
      " 13%|█▎        | 4/30 [00:47<05:10, 11.94s/it]"
     ]
    },
    {
     "name": "stdout",
     "output_type": "stream",
     "text": [
      "tensor(0.6434, device='cuda:0')\n",
      "TESTING\n"
     ]
    },
    {
     "name": "stderr",
     "output_type": "stream",
     "text": [
      "\r",
      " 17%|█▋        | 5/30 [00:59<05:02, 12.08s/it]"
     ]
    },
    {
     "name": "stdout",
     "output_type": "stream",
     "text": [
      "tensor(0.6593, device='cuda:0')\n",
      "TESTING\n"
     ]
    },
    {
     "name": "stderr",
     "output_type": "stream",
     "text": [
      "\r",
      " 20%|██        | 6/30 [01:12<04:52, 12.20s/it]"
     ]
    },
    {
     "name": "stdout",
     "output_type": "stream",
     "text": [
      "tensor(0.6791, device='cuda:0')\n",
      "TESTING\n"
     ]
    },
    {
     "name": "stderr",
     "output_type": "stream",
     "text": [
      "\r",
      " 23%|██▎       | 7/30 [01:24<04:41, 12.25s/it]"
     ]
    },
    {
     "name": "stdout",
     "output_type": "stream",
     "text": [
      "tensor(0.7139, device='cuda:0')\n",
      "TESTING\n"
     ]
    },
    {
     "name": "stderr",
     "output_type": "stream",
     "text": [
      "\r",
      " 27%|██▋       | 8/30 [01:36<04:31, 12.33s/it]"
     ]
    },
    {
     "name": "stdout",
     "output_type": "stream",
     "text": [
      "tensor(0.7109, device='cuda:0')\n",
      "TESTING\n"
     ]
    },
    {
     "name": "stderr",
     "output_type": "stream",
     "text": [
      "\r",
      " 30%|███       | 9/30 [01:49<04:19, 12.38s/it]"
     ]
    },
    {
     "name": "stdout",
     "output_type": "stream",
     "text": [
      "tensor(0.6979, device='cuda:0')\n",
      "TESTING\n"
     ]
    },
    {
     "name": "stderr",
     "output_type": "stream",
     "text": [
      "\r",
      " 33%|███▎      | 10/30 [02:01<04:08, 12.45s/it]"
     ]
    },
    {
     "name": "stdout",
     "output_type": "stream",
     "text": [
      "tensor(0.7225, device='cuda:0')\n",
      "TESTING\n"
     ]
    },
    {
     "name": "stderr",
     "output_type": "stream",
     "text": [
      "\r",
      " 37%|███▋      | 11/30 [02:14<03:57, 12.51s/it]"
     ]
    },
    {
     "name": "stdout",
     "output_type": "stream",
     "text": [
      "tensor(0.7122, device='cuda:0')\n",
      "TESTING\n"
     ]
    },
    {
     "name": "stderr",
     "output_type": "stream",
     "text": [
      "\r",
      " 40%|████      | 12/30 [02:27<03:45, 12.54s/it]"
     ]
    },
    {
     "name": "stdout",
     "output_type": "stream",
     "text": [
      "tensor(0.7083, device='cuda:0')\n",
      "TESTING\n"
     ]
    },
    {
     "name": "stderr",
     "output_type": "stream",
     "text": [
      "\r",
      " 43%|████▎     | 13/30 [02:39<03:33, 12.56s/it]"
     ]
    },
    {
     "name": "stdout",
     "output_type": "stream",
     "text": [
      "tensor(0.7162, device='cuda:0')\n",
      "TESTING\n"
     ]
    },
    {
     "name": "stderr",
     "output_type": "stream",
     "text": [
      "\r",
      " 47%|████▋     | 14/30 [02:52<03:21, 12.58s/it]"
     ]
    },
    {
     "name": "stdout",
     "output_type": "stream",
     "text": [
      "tensor(0.7191, device='cuda:0')\n",
      "TESTING\n"
     ]
    },
    {
     "name": "stderr",
     "output_type": "stream",
     "text": [
      "\r",
      " 50%|█████     | 15/30 [03:05<03:08, 12.60s/it]"
     ]
    },
    {
     "name": "stdout",
     "output_type": "stream",
     "text": [
      "tensor(0.7456, device='cuda:0')\n",
      "TESTING\n"
     ]
    },
    {
     "name": "stderr",
     "output_type": "stream",
     "text": [
      "\r",
      " 53%|█████▎    | 16/30 [03:17<02:56, 12.61s/it]"
     ]
    },
    {
     "name": "stdout",
     "output_type": "stream",
     "text": [
      "tensor(0.7456, device='cuda:0')\n",
      "TESTING\n"
     ]
    },
    {
     "name": "stderr",
     "output_type": "stream",
     "text": [
      "\r",
      " 57%|█████▋    | 17/30 [03:30<02:44, 12.67s/it]"
     ]
    },
    {
     "name": "stdout",
     "output_type": "stream",
     "text": [
      "tensor(0.7369, device='cuda:0')\n",
      "TESTING\n"
     ]
    },
    {
     "name": "stderr",
     "output_type": "stream",
     "text": [
      "\r",
      " 60%|██████    | 18/30 [03:43<02:31, 12.67s/it]"
     ]
    },
    {
     "name": "stdout",
     "output_type": "stream",
     "text": [
      "tensor(0.7416, device='cuda:0')\n",
      "TESTING\n"
     ]
    },
    {
     "name": "stderr",
     "output_type": "stream",
     "text": [
      "\r",
      " 63%|██████▎   | 19/30 [03:55<02:19, 12.67s/it]"
     ]
    },
    {
     "name": "stdout",
     "output_type": "stream",
     "text": [
      "tensor(0.7520, device='cuda:0')\n",
      "TESTING\n"
     ]
    },
    {
     "name": "stderr",
     "output_type": "stream",
     "text": [
      "\r",
      " 67%|██████▋   | 20/30 [04:08<02:06, 12.66s/it]"
     ]
    },
    {
     "name": "stdout",
     "output_type": "stream",
     "text": [
      "tensor(0.7278, device='cuda:0')\n",
      "TESTING\n"
     ]
    },
    {
     "name": "stderr",
     "output_type": "stream",
     "text": [
      "\r",
      " 70%|███████   | 21/30 [04:21<01:54, 12.67s/it]"
     ]
    },
    {
     "name": "stdout",
     "output_type": "stream",
     "text": [
      "tensor(0.7522, device='cuda:0')\n",
      "TESTING\n"
     ]
    },
    {
     "name": "stderr",
     "output_type": "stream",
     "text": [
      "\r",
      " 73%|███████▎  | 22/30 [04:33<01:41, 12.69s/it]"
     ]
    },
    {
     "name": "stdout",
     "output_type": "stream",
     "text": [
      "tensor(0.7427, device='cuda:0')\n",
      "TESTING\n"
     ]
    },
    {
     "name": "stderr",
     "output_type": "stream",
     "text": [
      "\r",
      " 77%|███████▋  | 23/30 [04:46<01:28, 12.67s/it]"
     ]
    },
    {
     "name": "stdout",
     "output_type": "stream",
     "text": [
      "tensor(0.7572, device='cuda:0')\n",
      "TESTING\n"
     ]
    },
    {
     "name": "stderr",
     "output_type": "stream",
     "text": [
      "\r",
      " 80%|████████  | 24/30 [04:59<01:16, 12.67s/it]"
     ]
    },
    {
     "name": "stdout",
     "output_type": "stream",
     "text": [
      "tensor(0.7539, device='cuda:0')\n",
      "TESTING\n"
     ]
    },
    {
     "name": "stderr",
     "output_type": "stream",
     "text": [
      "\r",
      " 83%|████████▎ | 25/30 [05:11<01:03, 12.66s/it]"
     ]
    },
    {
     "name": "stdout",
     "output_type": "stream",
     "text": [
      "tensor(0.7545, device='cuda:0')\n",
      "TESTING\n"
     ]
    },
    {
     "name": "stderr",
     "output_type": "stream",
     "text": [
      "\r",
      " 87%|████████▋ | 26/30 [05:24<00:50, 12.70s/it]"
     ]
    },
    {
     "name": "stdout",
     "output_type": "stream",
     "text": [
      "tensor(0.7438, device='cuda:0')\n",
      "TESTING\n"
     ]
    },
    {
     "name": "stderr",
     "output_type": "stream",
     "text": [
      "\r",
      " 90%|█████████ | 27/30 [05:37<00:38, 12.72s/it]"
     ]
    },
    {
     "name": "stdout",
     "output_type": "stream",
     "text": [
      "tensor(0.7539, device='cuda:0')\n",
      "TESTING\n"
     ]
    },
    {
     "name": "stderr",
     "output_type": "stream",
     "text": [
      "\r",
      " 93%|█████████▎| 28/30 [05:50<00:25, 12.73s/it]"
     ]
    },
    {
     "name": "stdout",
     "output_type": "stream",
     "text": [
      "tensor(0.7652, device='cuda:0')\n",
      "TESTING\n"
     ]
    },
    {
     "name": "stderr",
     "output_type": "stream",
     "text": [
      "\r",
      " 97%|█████████▋| 29/30 [06:02<00:12, 12.73s/it]"
     ]
    },
    {
     "name": "stdout",
     "output_type": "stream",
     "text": [
      "tensor(0.7401, device='cuda:0')\n",
      "TESTING\n"
     ]
    },
    {
     "name": "stderr",
     "output_type": "stream",
     "text": [
      "100%|██████████| 30/30 [06:15<00:00, 12.52s/it]"
     ]
    },
    {
     "name": "stdout",
     "output_type": "stream",
     "text": [
      "tensor(0.7516, device='cuda:0')\n"
     ]
    },
    {
     "name": "stderr",
     "output_type": "stream",
     "text": [
      "\n"
     ]
    }
   ],
   "source": [
    "#Train Classifier\n",
    "cls = Classifier().to(device)\n",
    "\n",
    "batch_size = 500\n",
    "learning_rate = 5.0e-4\n",
    "epochs = 30\n",
    "\n",
    "optimizer = optim.Adam(list(cls.parameters()), lr = learning_rate)\n",
    "loss_ce = nn.CrossEntropyLoss()\n",
    "\n",
    "models = [cls]\n",
    "forward_c1 = lambda x: cls(dna(x)[0])\n",
    "forward_c2 = lambda x: cls(dna(x)[1])\n",
    "\n",
    "\n",
    "metric = train([forward_c1,forward_c2], loss_ce, optimizer, train_data, test_data, models, epochs, batch_size, auto=False)"
   ]
  },
  {
   "cell_type": "code",
   "execution_count": 31,
   "id": "05fa0a33",
   "metadata": {},
   "outputs": [],
   "source": [
    "torch.save(dna.state_dict(), 'models/dna')\n",
    "torch.save(cls.state_dict(), 'models/cls_dna')"
   ]
  }
 ],
 "metadata": {
  "kernelspec": {
   "display_name": "Python 3",
   "language": "python",
   "name": "python3"
  },
  "language_info": {
   "codemirror_mode": {
    "name": "ipython",
    "version": 3
   },
   "file_extension": ".py",
   "mimetype": "text/x-python",
   "name": "python",
   "nbconvert_exporter": "python",
   "pygments_lexer": "ipython3",
   "version": "3.7.10"
  }
 },
 "nbformat": 4,
 "nbformat_minor": 5
}
