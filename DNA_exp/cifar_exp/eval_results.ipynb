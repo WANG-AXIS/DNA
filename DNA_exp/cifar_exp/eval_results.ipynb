{
 "cells": [
  {
   "cell_type": "code",
   "execution_count": 1,
   "id": "20960215",
   "metadata": {
    "scrolled": true
   },
   "outputs": [
    {
     "name": "stdout",
     "output_type": "stream",
     "text": [
      "Running on Graphics\n"
     ]
    }
   ],
   "source": [
    "import numpy as np               \n",
    "import matplotlib.pyplot as plt   \n",
    "from tqdm import tqdm\n",
    "\n",
    "#import torch packages\n",
    "import torch\n",
    "import torch.nn as nn\n",
    "import torch.nn.functional as F\n",
    "import torch.optim as optim\n",
    "import torchvision\n",
    "from torchvision.datasets import CIFAR10\n",
    "from torch.utils.data import DataLoader\n",
    "import torchvision.transforms as tt\n",
    "\n",
    "if torch.cuda.is_available():\n",
    "  print('Running on Graphics')\n",
    "  device=torch.device('cuda:0')\n",
    "else:\n",
    "  device=torch.device('cpu')\n",
    "  print('Running on Processor')"
   ]
  },
  {
   "cell_type": "code",
   "execution_count": 2,
   "id": "870bed14",
   "metadata": {},
   "outputs": [],
   "source": [
    "train_data = CIFAR10('../../CIFAR/cifar_data/', train=True, download=True,transform=tt.Compose(\n",
    "    [tt.RandomCrop(32, padding=4),\n",
    "     tt.RandomHorizontalFlip(),\n",
    "     tt.ToTensor(),\n",
    "     tt.Normalize((0.5, 0.5, 0.5), (0.5, 0.5, 0.5))\n",
    "     ]))\n",
    "test_data = CIFAR10('../../CIFAR/cifar_data/', train=False, download=True,transform=tt.Compose(\n",
    "    [tt.ToTensor(),\n",
    "     tt.Normalize((0.5, 0.5, 0.5), (0.5, 0.5, 0.5))]))\n",
    "\n",
    "classes = ('plane', 'car', 'bird', 'cat',\n",
    "           'deer', 'dog', 'frog', 'horse', 'ship', 'truck')"
   ]
  },
  {
   "cell_type": "code",
   "execution_count": 3,
   "id": "d7920d8d",
   "metadata": {},
   "outputs": [],
   "source": [
    "def get_acc(yhat, y):\n",
    "    predictions = torch.argmax(yhat, dim=1)\n",
    "    total_correct = torch.sum(predictions == y, dtype=torch.float32)\n",
    "    return total_correct"
   ]
  },
  {
   "cell_type": "code",
   "execution_count": 4,
   "id": "71245f5a",
   "metadata": {},
   "outputs": [],
   "source": [
    "class block(nn.Module):\n",
    "    def __init__(self, in_channels, out_channels):\n",
    "        super().__init__()\n",
    "        self.c1 = nn.Conv2d(in_channels, out_channels, 3, padding=1)\n",
    "        self.c2 = nn.Conv2d(out_channels, out_channels, 3, padding=1)\n",
    "        self.act = nn.ReLU()\n",
    "        self.bn1 = nn.BatchNorm2d((in_channels))\n",
    "        self.bn2 = nn.BatchNorm2d((out_channels))\n",
    "        if in_channels == out_channels:\n",
    "            self.id = nn.Identity()\n",
    "        else:\n",
    "            self.id = nn.Conv2d(in_channels, out_channels, 1)\n",
    "        \n",
    "    def forward(self, x):\n",
    "        x_res = self.c1(self.act(self.bn1(x)))\n",
    "        x_res = self.c2(self.act(self.bn2(x_res)))\n",
    "        return x_res + self.id(x)\n",
    "\n",
    "class bottleneck(nn.Module):\n",
    "  def __init__(self):\n",
    "    super().__init__()\n",
    "    self.b0 = block(32,32)\n",
    "    self.b1 = block(32,7)\n",
    "    self.b2 = block(7,32)\n",
    "    self.b3 = block(32,32)\n",
    "\n",
    "  def forward(self, x):\n",
    "    self.bn = self.b1(self.b0(x))\n",
    "    x = self.b3(self.b2(self.bn))\n",
    "    return  x\n",
    "\n",
    "\n",
    "class Encoder(nn.Module):\n",
    "  def __init__(self):\n",
    "    super().__init__()\n",
    "    self.b1 = block(3,16)\n",
    "    self.b2 = block(16,32)\n",
    "    self.pool = nn.MaxPool2d(2)\n",
    "\n",
    "  def forward(self, x):\n",
    "    x = self.pool(self.b1(x))\n",
    "    x = self.pool(self.b2(x))\n",
    "    return x\n",
    "\n",
    "\n",
    "class Decoder(nn.Module):\n",
    "  def __init__(self):\n",
    "    super().__init__()\n",
    "    self.b1 = block(32,16)\n",
    "    self.b2 = block(16,3)\n",
    "    self.u1 = nn.ConvTranspose2d(32,32,2,2)\n",
    "    self.u2 = nn.ConvTranspose2d(16,16,2,2)\n",
    "    self.act = nn.Tanh()\n",
    "\n",
    "  def forward(self, x):\n",
    "    x = self.b1(self.u1(x))\n",
    "    x = self.b2(self.u2(x))\n",
    "    return self.act(x)\n",
    "\n",
    "class DNA(nn.Module):\n",
    "    def __init__(self):\n",
    "        super().__init__()\n",
    "        self.enc = Encoder()\n",
    "        self.dec = Decoder()\n",
    "        self.bn1 = bottleneck()\n",
    "        self.bn2 = bottleneck()\n",
    "        \n",
    "    def forward(self, x):\n",
    "        x = self.enc(x)\n",
    "        r1 = self.dec(self.bn1(x))\n",
    "        r2 = self.dec(self.bn2(x))\n",
    "        return r1, r2\n",
    "    \n",
    "class AE(nn.Module):\n",
    "    def __init__(self):\n",
    "        super().__init__()\n",
    "        self.enc = Encoder()\n",
    "        self.dec = Decoder()\n",
    "        self.bn = bottleneck()\n",
    "        \n",
    "    def forward(self, x):\n",
    "        x = self.enc(x)\n",
    "        r1 = self.dec(self.bn(x))\n",
    "        return r1"
   ]
  },
  {
   "cell_type": "code",
   "execution_count": 5,
   "id": "00e2653a",
   "metadata": {},
   "outputs": [],
   "source": [
    "class Classifier(nn.Module):\n",
    "    def __init__(self):\n",
    "        super().__init__()\n",
    "        self.c1 = nn.Conv2d(3,64,3,padding=1)\n",
    "        self.r1 = block(64,128)\n",
    "        self.r2 = block(128,256)\n",
    "        self.r3 = block(256, 512)\n",
    "        self.classifier = nn.Sequential(nn.MaxPool2d(4), nn.Flatten(start_dim=1), nn.Linear(512, 10))\n",
    "        self.act = nn.ReLU()\n",
    "        self.pool = nn.MaxPool2d(2)\n",
    "        \n",
    "    def forward(self,x):\n",
    "        x = self.pool(self.act(self.c1(x)))\n",
    "        x = self.pool(self.r1(x))\n",
    "        x = self.pool(self.r2(x))\n",
    "        x = self.r3(x)\n",
    "        x = self.classifier(x)\n",
    "        return x"
   ]
  },
  {
   "cell_type": "code",
   "execution_count": 26,
   "id": "6daec92d",
   "metadata": {},
   "outputs": [],
   "source": [
    "def gen_PGD(x_nat, y, epsilon, loss_f, models, k=40, a=6.0/255):\n",
    "    for model in models:\n",
    "        model.eval()\n",
    "    y = y.to(device)\n",
    "    x_nat = x_nat.to(device)\n",
    "    x = x_nat + (2*epsilon*torch.rand(x_nat.shape) - epsilon).to(device)\n",
    "    x = torch.clamp(x, -1.0, 1.0)\n",
    "    for i in range(k):\n",
    "        x.requires_grad = True\n",
    "        for model in models:\n",
    "            model.zero_grad()\n",
    "        loss = loss_f(x,y)\n",
    "        loss.backward()\n",
    "        x = x + a*x.grad.data.sign()\n",
    "        x = torch.clamp(x, -1.0, 1)\n",
    "        perturb = torch.clamp(x-x_nat, -epsilon, epsilon)\n",
    "        x = (x_nat + perturb).detach()\n",
    "    return x"
   ]
  },
  {
   "cell_type": "code",
   "execution_count": 27,
   "id": "11431340",
   "metadata": {},
   "outputs": [],
   "source": [
    "def gen_FGSM(x, y, epsilon, loss_f, models):\n",
    "    for model in models:\n",
    "        model.zero_grad()\n",
    "    x.requires_grad = True\n",
    "    loss = loss_f(x,y)\n",
    "    loss.backward()\n",
    "    perturbed_x = torch.clamp(x + epsilon*(x.grad.data).sign(), min=-1.0, max=1.0)\n",
    "    return perturbed_x.detach()"
   ]
  },
  {
   "cell_type": "code",
   "execution_count": 28,
   "id": "7e3bc7e7",
   "metadata": {},
   "outputs": [],
   "source": [
    "loss_ce = nn.CrossEntropyLoss()\n",
    "def eval_AE(auto, cls, epsilons, attack_function, label, DN):\n",
    "    results = []\n",
    "    if DN:\n",
    "        loss_f = lambda x,y: loss_ce(cls(auto(x)[0]),y)**2 + loss_ce(cls(auto(x)[1]),y)**2\n",
    "        a_type = 'DNA (dual)'\n",
    "    else:\n",
    "        loss_f = lambda x,y: loss_ce(cls(auto(x)),y)\n",
    "        a_type = 'AE'\n",
    "    for epsilon in epsilons:\n",
    "        total_correct = 0.0\n",
    "        for x,y in DataLoader(test_data, batch_size=500):\n",
    "            x = x.to(device)\n",
    "            y = y.to(device)\n",
    "            if epsilon != 0.0:\n",
    "                x = attack_function(x, y, epsilon, loss_f, [auto, cls])\n",
    "            xhat = auto(x)\n",
    "            if DN:\n",
    "                yhat1 = torch.argmax(cls(xhat[0]), dim=1)\n",
    "                yhat2 = torch.argmax(cls(xhat[1]), dim=1)\n",
    "                total_correct = total_correct + torch.sum((yhat1==y) | (yhat2==y)).detach().cpu().numpy()\n",
    "\n",
    "            else:\n",
    "                yhat1 = torch.argmax(cls(xhat), dim=1)\n",
    "                total_correct = total_correct + torch.sum(yhat1==y).detach().cpu().numpy()\n",
    "        acc = total_correct/len(test_data)\n",
    "        results.append([a_type, label, epsilon, acc])\n",
    "    if DN:\n",
    "        loss_f = [lambda x,y: loss_ce(cls(auto(x)[0]),y), lambda x,y: loss_ce(cls(auto(x)[1]),y)]\n",
    "        a_type = 'DNA (single)'\n",
    "        for epsilon in epsilons:\n",
    "            total_correct = 0.0\n",
    "            for x,y in DataLoader(test_data, batch_size=500):\n",
    "                x = x.to(device)\n",
    "                y = y.to(device)\n",
    "                for i in range(2):\n",
    "                    if epsilon != 0:\n",
    "                        x_adv = attack_function(x, y, epsilon, loss2, [auto, cls])\n",
    "                    else:\n",
    "                        x_adv = x\n",
    "                    xhat = auto(x_adv)\n",
    "                    yhat1 = torch.argmax(cls(xhat[0]), dim=1)\n",
    "                    yhat2 = torch.argmax(cls(xhat[1]), dim=1)\n",
    "                    total_correct = total_correct + torch.sum((yhat1==y) | (yhat2==y)).detach().cpu().numpy()\n",
    "            acc = total_correct/(2*len(test_data))\n",
    "            results.append([a_type, label, epsilon, acc])\n",
    "    return results"
   ]
  },
  {
   "cell_type": "code",
   "execution_count": null,
   "id": "51ad60a7",
   "metadata": {},
   "outputs": [],
   "source": [
    "#Run the Adversarial Tests\n",
    "epsilons = [0.0, 4.0/255, 8.0/255, 16.0/255]\n",
    "dna = AE(in_size, bn_size).to(device)\n",
    "cls = Classifier().to(device)\n",
    "dna.load_state_dict(torch.load('models/ae'))\n",
    "cls.load_state_dict(torch.load('models/cls_ae'))\n",
    "\n",
    "results = eval_AE(dna, cls, epsilons, gen_FGSM, 'FGSM', DN=False)\n",
    "results.extend(eval_AE(dna, cls, epsilons, gen_PGD, 'PGD', DN=False))\n",
    "\n",
    "dna = DNA(in_size, bn_size).to(device)\n",
    "cls = Classifier().to(device)\n",
    "dna.load_state_dict(torch.load('models/dna'))\n",
    "cls.load_state_dict(torch.load('models/cls_dna'))\n",
    "\n",
    "results.extend(eval_AE(dna, cls, epsilons, gen_FGSM, 'FGSM', DN=True))\n",
    "results.extend(eval_AE(dna, cls, epsilons, gen_PGD, 'PGD', DN=True)) "
   ]
  },
  {
   "cell_type": "code",
   "execution_count": null,
   "id": "83cce4b4",
   "metadata": {},
   "outputs": [],
   "source": [
    "#save results in dataframe\n",
    "results_table = pd.DataFrame(results, columns=['Model', 'Attack', r'$\\epsilon$', 'Accuracy'])\n",
    "results_table.columns = ['Model', 'Attack', r'$\\epsilon$', 'Accuracy']\n",
    "results_table['Accuracy'] = results_table['Accuracy']*100\n",
    "results_table.to_pickle(\"results.pkl\")"
   ]
  },
  {
   "cell_type": "code",
   "execution_count": 99,
   "id": "e2e9a41a",
   "metadata": {},
   "outputs": [
    {
     "data": {
      "text/plain": [
       "Text(0, 0.5, 'Accuracy (%)')"
      ]
     },
     "execution_count": 99,
     "metadata": {},
     "output_type": "execute_result"
    },
    {
     "data": {
      "image/png": "[encoded data removed]",
      "text/plain": [
       "<Figure size 1080x360 with 2 Axes>"
      ]
     },
     "metadata": {},
     "output_type": "display_data"
    }
   ],
   "source": [
    "results_table = results_table[results_table.Model != 'DNA (single)']\n",
    "results_table['Model'] = results_table['Model'].replace('DNA (dual)', 'DNA')\n",
    "\n",
    "sns.set_theme()\n",
    "fig, ax = plt.subplots(1,2, figsize=(15,5))\n",
    "\n",
    "sns.lineplot(ax=ax[0], data=results_table[results_table.Attack == 'FGSM'], x=r'$\\epsilon$', y='Accuracy', hue='Model', palette='Blues_d')\n",
    "ax[0].set_ylim(0,100)\n",
    "ax[0].set_xlabel(r'Attack Magnitude ($\\epsilon$; FGSM)')\n",
    "ax[0].set_xticks([0.0, 4.0/255, 8.0/255, 16.0/255])\n",
    "ax[0].set_xticklabels(['0', '2/255', '4/255', '8/255'])\n",
    "ax[0].set_ylabel('Accuracy (%)')\n",
    "\n",
    "sns.lineplot(ax=ax[1], data=results_table[results_table.Attack == 'PGD'], x=r'$\\epsilon$', y='Accuracy', hue='Model', palette='Blues_d')\n",
    "ax[1].set_ylim(0,100)\n",
    "ax[1].set_xlabel(r'Attack Magnitude ($\\epsilon$; PGD)')\n",
    "ax[1].set_xticks([0.0, 4.0/255, 8.0/255, 16.0/255])\n",
    "ax[1].set_xticklabels(['0', '2/255', '4/255', '8/255'])\n",
    "ax[1].set_ylabel('Accuracy (%)')"
   ]
  },
  {
   "cell_type": "code",
   "execution_count": 100,
   "id": "057bb616",
   "metadata": {},
   "outputs": [],
   "source": [
    "fig.savefig('line_plot.jpg', bbox_inches = 'tight', pad_inches = 0, format='jpg', dpi=600)"
   ]
  }
 ],
 "metadata": {
  "kernelspec": {
   "display_name": "Python 3",
   "language": "python",
   "name": "python3"
  },
  "language_info": {
   "codemirror_mode": {
    "name": "ipython",
    "version": 3
   },
   "file_extension": ".py",
   "mimetype": "text/x-python",
   "name": "python",
   "nbconvert_exporter": "python",
   "pygments_lexer": "ipython3",
   "version": "3.7.10"
  }
 },
 "nbformat": 4,
 "nbformat_minor": 5
}
